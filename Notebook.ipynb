{
 "cells": [
  {
   "cell_type": "markdown",
   "metadata": {
    "Collapsed": "false"
   },
   "source": [
    "# 27/2/20"
   ]
  },
  {
   "cell_type": "markdown",
   "metadata": {
    "Collapsed": "false"
   },
   "source": [
    "## Programming the LoRa receiver\n",
    "\n",
    "* Go to: https://github.com/espressif/arduino-esp32\n",
    "\n",
    "* Go to: https://github.com/espressif/arduino-esp32/blob/master/docs/arduino-ide/boards_manager.md\n",
    "\n",
    "* Insert https://raw.githubusercontent.com/espressif/arduino-esp32/gh-pages/package_esp32_index.json into `Additional Board Managers URL` under `Preferences` in the Arduino IDE.\n",
    "\n",
    "* Then go to `Board Manager` under `Tools` -> `Boards` and search for `esp32` and install `1.0.4` of `esp32` by espressif, click `install`.\n",
    "\n",
    "* Select board type \"TTGO LoRa32-OLEDV1\"\n",
    "\n",
    "* Select \"Upload\" to program the device\n",
    "\n",
    "* Clone ArduinoLoRa library:\n",
    "\n",
    "```bash\n",
    "git clone git@github.com:uwasystemhealth/arduino-LoRa.git\n",
    "ln -s ~/bin/arduino-LoRa ~/bin/arduino-1.8.10/libraries/.\n",
    "```\n",
    "\n",
    "* Upload `TTGO/LoRaReceiver/LoRaReceiver.ino` using the arduino IDE"
   ]
  },
  {
   "cell_type": "markdown",
   "metadata": {
    "Collapsed": "false"
   },
   "source": [
    "## Programming the RAMI\n",
    "\n",
    "* Click `Tools` -> `Manage Libraries ...` and install `rtc by makuna`\n",
    "\n",
    "* Clone Sparkfun library:\n",
    "\n",
    "```bash\n",
    "git clone git@github.com:uwasystemhealth/SparkFun_ADXL345_Arduino_Library.git\n",
    "ln -s ~/bin/SparkFun_ADXL345_Arduino_Library ~/bin/arduino-1.8.10/libraries/.\n",
    "```\n",
    "\n",
    "* Clone ArduinoLoRa library:\n",
    "\n",
    "```bash\n",
    "git clone git@github.com:uwasystemhealth/arduino-LoRa.git\n",
    "ln -s ~/bin/arduino-LoRa ~/bin/arduino-1.8.10/libraries/.\n",
    "```\n",
    "\n",
    "* Select \"Arduino Pro or Pro Mini\" as the board type.\n",
    "* Select \"ATmega328P 3.3V 8MHz\" as the processor.\n",
    "* On any 3.3v serial adapter connect (adapter->board) TX->MTX, RX->MRX, DTR->RES, GND->GND\n",
    "* Connect power to the RAMI device\n",
    "\n",
    "* Upload `Sensor/Power Testing/power_transmit/power_transmit.ino` using the arduino IDE"
   ]
  },
  {
   "cell_type": "markdown",
   "metadata": {
    "Collapsed": "false"
   },
   "source": [
    "## Programming the RAMI over ISP using Linux\n",
    "\n",
    "* Buy one of these: https://www.altronics.com.au/p/z6540-dfrobot-dfr0116-usb-tiny-isp-arduino-bootloader-programmer/\n",
    "\n",
    "* Follow these instructions: http://www.krekr.nl/content/using-usbtinyisp-with-ubuntu/\n",
    "\n",
    "  * i.e.:\n",
    "  \n",
    "```bash\n",
    "echo 'SUBSYSTEM==\"usb\", ATTR{idVendor}==\"1781\", ATTR{idProduct}==\"0c9f\", GROUP=\"adm\", MODE=\"0666\"' | sudo tee -a /etc/udev/rules.d/10-USBtiny.rules\n",
    "sudo usermod -a -G plugdev $USER\n",
    "sudo service udev restart\n",
    "sudo udevadm control --reload-rules\n",
    "```\n",
    "\n",
    "* Go to `Tools` -> `Programmer` and choose `USBtinyISP`\n",
    "\n",
    "* Unplug power and serial from the RAMI\n",
    "\n",
    "* Plug the USBtinyISP into laptop, and into the RAMI using the 6 pin facing this way:\n",
    "\n",
    "![Programming using the USBtinyISP](figures/USBtinyISP.jpg \"Programming using the USBtinyISP\")\n",
    "\n",
    "* Go to `Sketch` -> `Upload Using Programmer`\n",
    "\n",
    "### Re-burning bootloader\n",
    "\n",
    "* To be able to then program the device using serial again, it is necessary to go to `Tools` -> `Burn Bootloader`."
   ]
  },
  {
   "cell_type": "markdown",
   "metadata": {
    "Collapsed": "false"
   },
   "source": [
    "## Battery information\n",
    "\n",
    "We will attempt to combine two [18650 batteries](https://www.batteryjunction.com/18650.html) with the RAMI.\n",
    "\n",
    "From Altronics, we will need to buy a few of these:\n",
    " \n",
    "* https://www.altronics.com.au/p/s4738-18650-lithium-ion-3.7V-protected-2600mah-rechargeable-battery/\n",
    "\n",
    "* https://www.altronics.com.au/p/s5039-18650-square-battery-holder-fly-leads/\n",
    "\n",
    "and one of these:\n",
    "\n",
    "* https://www.altronics.com.au/p/a0289-lithium-ion-usb-battery-charger/\n",
    "\n",
    "This will give us a combined charge of 5.2 Amp hours (2.6 Amp hours per battery).\n",
    "\n",
    "If we use these \n",
    "\n",
    "* https://industrial.panasonic.com/ww/products/batteries/secondary-batteries/lithium-ion/cylindrical-type/NCR18650BF\n",
    "\n",
    "* https://www.batteryspace.com/prod-specs/NCR18650B.pdf\n",
    "\n",
    "These two batteries produce a combined capacity of 6.4 Amp hours (3.2 Amp hours per battery).\n",
    "\n",
    "Given that RAMI uses approximately 600 µA in sleep mode, and 120 mA in transmit mode, and that transmit mode lasts for only 27 milliseconds, we would expect that we would get the full capacity of the batteries, and thus the expected life-time of two fully charged batteries running RAMI would be approximately (ignoring transmit power for now)\n",
    "\n",
    "$$ \\frac{6.4}{560 \\times 10^{-6}} = 11,428 \\ \\mathrm{hours} = 476 \\ \\mathrm{days} \\approx 16 \\ \\mathrm{months} $$\n",
    "\n",
    "which is easily in excess of a year."
   ]
  },
  {
   "cell_type": "markdown",
   "metadata": {
    "Collapsed": "false"
   },
   "source": [
    "# 28/2/20"
   ]
  },
  {
   "cell_type": "markdown",
   "metadata": {
    "Collapsed": "false"
   },
   "source": [
    "We can now program the RAMI using the arduino command line, and we can measure the current using the Siglent.\n",
    "\n",
    "I need to do some more work with regard to setting up some sensible measurements.\n",
    "\n",
    "Here is the current measurement setup:\n",
    "\n",
    "![Setup for testing the RAMI device](figures/RAMI_test.jpg \"Setup for testing the RAMI device\")"
   ]
  },
  {
   "cell_type": "markdown",
   "metadata": {
    "Collapsed": "false"
   },
   "source": [
    "## 13/3/2020"
   ]
  },
  {
   "cell_type": "markdown",
   "metadata": {
    "Collapsed": "false"
   },
   "source": [
    "### Connecting the batteries"
   ]
  },
  {
   "cell_type": "markdown",
   "metadata": {
    "Collapsed": "false"
   },
   "source": [
    "Last week I bought \n",
    "\n",
    "* 2 18650 batteries ([\\$33.90](https://www.jaycar.com.au/18650-rechargeable-li-ion-battery-2600mah-3-7v/p/SB2308))\n",
    "* 2 18650 battery holders ([\\$6.50](https://www.jaycar.com.au/single-18650-battery-holder/p/PH9205))\n",
    "* 18650 battery charger ([\\$34.95](https://www.jaycar.com.au/universal-li-ion-cylinder-battery-charger-with-usb/p/MB3638))\n",
    "\n",
    "from Jaycar.\n",
    "\n",
    "Today I connected the batteries to the RAMI device.\n",
    "The batteries can be connected directly to the RAMI device, or they can be connected via voltage and current measurement wires, as depicted in the photo below:\n",
    "\n",
    "![RAMI with batteries](figures/RAMI_with_batteries.jpg \"RAMI with batteries\")\n",
    "\n",
    "The next step is to print a 3D case for the device."
   ]
  },
  {
   "cell_type": "code",
   "execution_count": null,
   "metadata": {
    "Collapsed": "false"
   },
   "outputs": [],
   "source": []
  }
 ],
 "metadata": {
  "kernelspec": {
   "display_name": "Python 3",
   "language": "python",
   "name": "python3"
  },
  "language_info": {
   "codemirror_mode": {
    "name": "ipython",
    "version": 3
   },
   "file_extension": ".py",
   "mimetype": "text/x-python",
   "name": "python",
   "nbconvert_exporter": "python",
   "pygments_lexer": "ipython3",
   "version": "3.7.3"
  }
 },
 "nbformat": 4,
 "nbformat_minor": 4
}
