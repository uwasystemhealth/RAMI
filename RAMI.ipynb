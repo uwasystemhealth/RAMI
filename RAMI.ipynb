{
 "cells": [
  {
   "cell_type": "markdown",
   "metadata": {
    "Collapsed": "false"
   },
   "source": [
    "# Remote Asset Management Indicator (RAMI)"
   ]
  },
  {
   "cell_type": "markdown",
   "metadata": {
    "Collapsed": "false"
   },
   "source": [
    "This Jupyter notebook summarises the process for testing the RAMI device.\n",
    "\n",
    "The RAMI device uses the following libraries (The arduino-LoRa and SparkFun_ADXL345_Arduino libraries have been forked and modified):\n",
    "\n",
    "| Library                                                      | Version                                                            |\n",
    "|--------------------------------------------------------------|--------------------------------------------------------------------|\n",
    "| https://github.com/sandeepmistry/arduino-LoRa                | https://github.com/uwasystemhealth/arduino-LoRa/releases/tag/0.8.0 |\n",
    "| https://github.com/Makuna/Rtc                                | https://github.com/Makuna/Rtc/releases/tag/2.3.3                   |\n",
    "| https://github.com/sparkfun/SparkFun_ADXL345_Arduino_Library | https://github.com/uwasystemhealth/SparkFun_ADXL345_Arduino_Library/releases/tag/1.1.0 |\n",
    "\n"
   ]
  },
  {
   "cell_type": "markdown",
   "metadata": {
    "Collapsed": "false"
   },
   "source": [
    "## Hardware"
   ]
  },
  {
   "cell_type": "markdown",
   "metadata": {
    "Collapsed": "false"
   },
   "source": [
    "The circuit board was designed using [Eagle CAD](https://www.autodesk.com/products/eagle/overview).\n",
    "\n",
    "The directory [hardware/EagleCAD](hardware/EagleCAD) contains the board, schematic and libraries.\n",
    "\n",
    "PDF versions of the schematic and the board can be found here:\n",
    "\n",
    "* [PCB](hardware/pdfs/PCB.pdf)\n",
    "\n",
    "* [Schematic](hardware/pdfs/schematic.pdf)\n",
    "\n",
    "### Bill of Materials\n",
    "| Designator | Description           | Part No.           |  Value | Package    | Quantity |  Price |\n",
    "|------------|-----------------------|--------------------|--------|------------|----------|--------|\n",
    "| R1, R4, R5 | SMD Resistors         | CRGP0603F10K       |   10k  | 0603       |        3 |  0.153 |\n",
    "| R2, R3     | SMD Resistors         | CRCW06034K70JNEAC  |  4.7k  | 0603       |        2 |  0.153 |\n",
    "| C1, C2     | SMD Capacitors        | VJ0603A180JXACW1BC |   18pF | 0603       |        2 |  0.153 |\n",
    "| C3, C4     | SMD Capacitors        | 885012206071       |  0.1uF | 0603       |        2 |  0.153 |\n",
    "| C5         | TH Capacitor          | SA305E105MAC       |    1uF | 3mm Aixial |        1 |  0.887 |\n",
    "| Y1         | 8MHz Crystal          | LFXTAL069874       |    8MHz| HC-49-4H   |        1 |  0.734 |\n",
    "| IC1        | 3.3V LDO Regulator    | TC1262-3.3VDB      |  3.3V  | SOT-223-3  |        1 |  0.78  |\n",
    "| IC2        | ADXL345 Accelerometer | ADXL345BCCZ        |   -    | LGA (14)   |        1 | 10.61  |\n",
    "| U1         | 328P Microcontroller  | ATMEGA328P-AU      |   -    | TQFP-32    |        1 |  3.07  |\n",
    "| U2         | LoRa Radio Transceiver| RFM95W-915S2       | 915MHz | Castellated|        1 | 20.89  |\n",
    "| RTC1       | RTC Module            | DS3231MZ+          |   -    | SOIC-8     |        1 | 11.47  |\n",
    "| PCB        | Custom PCB            | -                  |   -    |     -      |     -    |  1.00  |\n",
    "| Total      | -                     | -                  |   -    |     -      |     -    | 50.665 |\n",
    "\n",
    "\n",
    "Pricing from au.mouser.com and Digikey, all pricing in AUD EX. GST"
   ]
  },
  {
   "cell_type": "markdown",
   "metadata": {
    "Collapsed": "false"
   },
   "source": [
    "## Software"
   ]
  },
  {
   "cell_type": "markdown",
   "metadata": {
    "Collapsed": "false"
   },
   "source": [
    "Here we outline how to get the arduino IDE setup to interact with the RAMI device.\n",
    "\n",
    "RAMI:\n",
    "* Install the Rtc by Makuna version 2.3.3 library\n",
    "* Copy the modified libraries under lib to your libraries folder (usually ~/Documents/Arduino\\/libraries on Windows)\n",
    "* Select \"Arduino Pro or Pro Mini\" as the board type.\n",
    "* Select \"ATmega328P 3.3V 8MHz\" as the processor.\n",
    "* On any 3.3v serial adapter connect (adapter->board) TX->MTX, RX->MRX, DTR->RES, GND->GND\n",
    "* Connect power to the RAMI device\n",
    "* Select \"Upload\" to program the device\n",
    "\n",
    "TTGO ESP32 LORA:\n",
    "* Install ESP32 Board Definitions in Board Manager.\n",
    "* Select board type \"TTGO LoRa32-OLEDV1\"\n",
    "* Select \"Upload\" to program the device\n"
   ]
  },
  {
   "cell_type": "markdown",
   "metadata": {
    "Collapsed": "false"
   },
   "source": [
    "## Communicating using TTGO LoRa device"
   ]
  },
  {
   "cell_type": "markdown",
   "metadata": {
    "Collapsed": "false"
   },
   "source": [
    "Below is the code which can be run on the server computer with a TTGO LoRa device connected.\n",
    "This code is used to test the RAMI device."
   ]
  },
  {
   "cell_type": "markdown",
   "metadata": {
    "Collapsed": "false"
   },
   "source": [
    "TODO :\n",
    "\n",
    "* Explain how to program the TTGO device\n"
   ]
  },
  {
   "cell_type": "code",
   "execution_count": null,
   "metadata": {
    "Collapsed": "false"
   },
   "outputs": [],
   "source": [
    "port = '/dev/ttyUSB0'\n",
    "board = '???'"
   ]
  },
  {
   "cell_type": "code",
   "execution_count": null,
   "metadata": {
    "Collapsed": "false"
   },
   "outputs": [],
   "source": [
    "sketch = 'TTGO/LoRaReceiver/LoRaReceiver.ino'"
   ]
  },
  {
   "cell_type": "code",
   "execution_count": null,
   "metadata": {
    "Collapsed": "false"
   },
   "outputs": [],
   "source": [
    "print(f\"arduino --board {board} --port {port} --upload {sketch}\")\n",
    "!arduino --board $board --port $port --upload $sketch"
   ]
  },
  {
   "cell_type": "code",
   "execution_count": null,
   "metadata": {
    "Collapsed": "false"
   },
   "outputs": [],
   "source": [
    "import serial\n",
    "import sys\n",
    "import time\n",
    "from datetime import datetime\n",
    "\n",
    "def process_output(output, output_file=None): \n",
    "    '''\n",
    "process_output takes as input a binary string from a TTGO LoRa device, \n",
    "which in turn is listening for a RAMI device.\n",
    "It then interprets this binary string.\n",
    "'''\n",
    "\n",
    "    recv_packet_ids = {\n",
    "        0x00: \"DATA\",\n",
    "        0x01: \"HEARTBEAT\",\n",
    "        0x02: \"INACTIVE\",\n",
    "        0xff: \"SERIAL_KEEPALIVE\",  # Only used for debugging serial connection\n",
    "    }\n",
    "\n",
    "    mode = int(output[0])\n",
    "    ID = format(output[1], '02x')\n",
    "    nonce = format(int.from_bytes(output[2:4], 'little'), '02x')\n",
    "    try: \n",
    "        recv_packet_ids[mode]\n",
    "    except KeyError:\n",
    "        print(\"KeyError, this can be caused by boot messages or a malformed packet\")\n",
    "        return\n",
    "    output_str = (f\"{datetime.now()}\\n\"\n",
    "                  f\"Received : {output} with length {len(output)}\\n\"\n",
    "                  f\"Received data with identifier {recv_packet_ids[mode]} \"\n",
    "                  f\"with ID {ID} \"\n",
    "                  f\"and nonce {nonce}\\n\"\n",
    "         )\n",
    "    if mode == 0:\n",
    "        magnitude = int.from_bytes(output[5:-2], \"little\")\n",
    "        output_str += f\"Magnitude is {magnitude}\\n\"\n",
    "\n",
    "    print(output_str)\n",
    "        \n",
    "    if not output_file:\n",
    "        output_file = 'RAMI_data.txt'\n",
    "    with open(output_file, 'a+') as f:\n",
    "        f.write(output_str);\n",
    "\n",
    "def lora_listen(port):\n",
    "    print(\"Opening serial port on \" + port)\n",
    "    serialPort = serial.Serial(port=port, baudrate = 115200)\n",
    "    print(datetime.now())\n",
    "    print(\"Serial port opened, starting server loop\")\n",
    "\n",
    "    try:\n",
    "        while(True):\n",
    "            output = serialPort.read_until(b'\\r\\n')\n",
    "            process_output(output)\n",
    "            time.sleep(1)\n",
    "    except KeyboardInterrupt:\n",
    "        print(\"Stopping listening\")\n",
    "        serialPort.close()\n",
    "        pass"
   ]
  },
  {
   "cell_type": "code",
   "execution_count": null,
   "metadata": {
    "Collapsed": "false"
   },
   "outputs": [],
   "source": [
    "port = '/dev/ttyUSB0'"
   ]
  },
  {
   "cell_type": "code",
   "execution_count": null,
   "metadata": {
    "Collapsed": "false"
   },
   "outputs": [],
   "source": [
    "import threading\n",
    "thread = threading.Thread(target=lora_listen, args=(port,))\n",
    "thread.start()\n",
    "#lora_listen((port))"
   ]
  },
  {
   "cell_type": "code",
   "execution_count": null,
   "metadata": {
    "Collapsed": "false"
   },
   "outputs": [],
   "source": [
    "thread.stop()"
   ]
  },
  {
   "cell_type": "markdown",
   "metadata": {
    "Collapsed": "false"
   },
   "source": [
    "## Measuring the current draw of the RAMI"
   ]
  },
  {
   "cell_type": "markdown",
   "metadata": {
    "Collapsed": "false"
   },
   "source": [
    "We use a [Siglent SDM3045X](https://siglentna.com/digital-multimeters/sdm3045x-digital-multimeter/) Digital Multimeter to measure the current draw of the RAMI\n",
    "\n",
    "The [User manual](https://siglentna.com/download/2592/) for the SDM3045X does not have the SCPI commands but [this manual](https://www.batronix.com/files/Siglent/Multimeter/SDM3045X/SDM3045X_ProgrammingManual_EN.pdf) does. We can use Python tho record the current draw.\n",
    "\n"
   ]
  },
  {
   "cell_type": "code",
   "execution_count": null,
   "metadata": {
    "Collapsed": "false"
   },
   "outputs": [],
   "source": [
    "import vxi11\n",
    "Siglent = vxi11.Instrument('192.168.0.51')\n",
    "print(Siglent.ask(\"*IDN?\"))"
   ]
  },
  {
   "cell_type": "code",
   "execution_count": null,
   "metadata": {
    "Collapsed": "false"
   },
   "outputs": [],
   "source": [
    "!which arduino"
   ]
  },
  {
   "cell_type": "code",
   "execution_count": null,
   "metadata": {
    "Collapsed": "false"
   },
   "outputs": [],
   "source": [
    "!arduino --version"
   ]
  },
  {
   "cell_type": "code",
   "execution_count": null,
   "metadata": {
    "Collapsed": "false"
   },
   "outputs": [],
   "source": [
    "port = '/dev/ttyUSB1'\n",
    "board = 'arduino:avr:pro:cpu=8MHzatmega328'"
   ]
  },
  {
   "cell_type": "markdown",
   "metadata": {
    "Collapsed": "false"
   },
   "source": [
    "### Transmit mode"
   ]
  },
  {
   "cell_type": "markdown",
   "metadata": {
    "Collapsed": "false"
   },
   "source": [
    "Here we load the transmit_power program and measure the voltage and current."
   ]
  },
  {
   "cell_type": "code",
   "execution_count": null,
   "metadata": {
    "Collapsed": "false"
   },
   "outputs": [],
   "source": [
    "sketch = 'Sensor/Power_Testing/power_transmit/power_transmit.ino'"
   ]
  },
  {
   "cell_type": "code",
   "execution_count": null,
   "metadata": {
    "Collapsed": "false"
   },
   "outputs": [],
   "source": [
    "print(f\"arduino --board {board} --port {port} --upload {sketch}\")\n",
    "!arduino --board $board --port $port --upload $sketch"
   ]
  },
  {
   "cell_type": "code",
   "execution_count": null,
   "metadata": {
    "Collapsed": "false"
   },
   "outputs": [],
   "source": [
    "current = float(Siglent.ask(\"MEAS:CURRent:DC?\"))\n",
    "print(current)"
   ]
  },
  {
   "cell_type": "markdown",
   "metadata": {
    "Collapsed": "false"
   },
   "source": [
    "### Sleep mode"
   ]
  },
  {
   "cell_type": "code",
   "execution_count": null,
   "metadata": {
    "Collapsed": "false"
   },
   "outputs": [],
   "source": [
    "sketch = 'Sensor/Power_Testing/power_down/power_down.ino'"
   ]
  },
  {
   "cell_type": "code",
   "execution_count": null,
   "metadata": {
    "Collapsed": "false"
   },
   "outputs": [],
   "source": [
    "print(f\"arduino --board {board} --port {port} --upload {sketch}\")\n",
    "!arduino --board $board --port $port --upload $sketch"
   ]
  },
  {
   "cell_type": "markdown",
   "metadata": {
    "Collapsed": "false"
   },
   "source": [
    "### RAMI code"
   ]
  },
  {
   "cell_type": "code",
   "execution_count": null,
   "metadata": {
    "Collapsed": "false"
   },
   "outputs": [],
   "source": [
    "sketch = 'Sensor/RAMI/RAMI.ino'"
   ]
  },
  {
   "cell_type": "code",
   "execution_count": null,
   "metadata": {
    "Collapsed": "false"
   },
   "outputs": [],
   "source": [
    "print(f\"arduino --board {board} --port {port} --upload {sketch}\")\n",
    "!arduino --board $board --port $port --upload $sketch"
   ]
  },
  {
   "cell_type": "code",
   "execution_count": null,
   "metadata": {
    "Collapsed": "false"
   },
   "outputs": [],
   "source": [
    "current = Siglent.ask(\"READ?\")\n",
    "print(current)\n",
    "#Siglent.ask(\"TRIGger:DELay:AUTO 1\")"
   ]
  },
  {
   "cell_type": "code",
   "execution_count": null,
   "metadata": {
    "Collapsed": "false"
   },
   "outputs": [],
   "source": [
    "Siglent.ask(\"INITiate\")"
   ]
  },
  {
   "cell_type": "code",
   "execution_count": null,
   "metadata": {
    "Collapsed": "false"
   },
   "outputs": [],
   "source": [
    "Siglent.ask(\"TRIGger:DELay:AUTO 1\")"
   ]
  },
  {
   "cell_type": "code",
   "execution_count": null,
   "metadata": {
    "Collapsed": "false"
   },
   "outputs": [],
   "source": [
    "Siglent."
   ]
  }
 ],
 "metadata": {
  "kernelspec": {
   "display_name": "Python 3",
   "language": "python",
   "name": "python3"
  },
  "language_info": {
   "codemirror_mode": {
    "name": "ipython",
    "version": 3
   },
   "file_extension": ".py",
   "mimetype": "text/x-python",
   "name": "python",
   "nbconvert_exporter": "python",
   "pygments_lexer": "ipython3",
   "version": "3.7.3"
  }
 },
 "nbformat": 4,
 "nbformat_minor": 4
}
